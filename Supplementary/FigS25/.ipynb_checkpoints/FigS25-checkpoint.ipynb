{
 "cells": [
  {
   "cell_type": "code",
   "execution_count": 2,
   "id": "e60fa591-cd62-4d57-8593-0c26d983c00c",
   "metadata": {},
   "outputs": [],
   "source": [
    "import pandas as pd\n",
    "import seaborn as sns\n",
    "import matplotlib.pyplot as plt\n",
    "import statsmodels.api as sm\n",
    "from statsmodels.formula.api import ols\n",
    "import numpy as np\n",
    "from statsmodels.stats.multicomp import pairwise_tukeyhsd\n",
    "from statsmodels.stats.multicomp import MultiComparison\n",
    "import scipy.stats as stats\n",
    "import os"
   ]
  },
  {
   "cell_type": "code",
   "execution_count": 5,
   "id": "a62541b6-856f-495e-85a4-daee76a6f3c3",
   "metadata": {},
   "outputs": [
    {
     "data": {
      "text/html": [
       "<div>\n",
       "<style scoped>\n",
       "    .dataframe tbody tr th:only-of-type {\n",
       "        vertical-align: middle;\n",
       "    }\n",
       "\n",
       "    .dataframe tbody tr th {\n",
       "        vertical-align: top;\n",
       "    }\n",
       "\n",
       "    .dataframe thead th {\n",
       "        text-align: right;\n",
       "    }\n",
       "</style>\n",
       "<table border=\"1\" class=\"dataframe\">\n",
       "  <thead>\n",
       "    <tr style=\"text-align: right;\">\n",
       "      <th></th>\n",
       "      <th>Sample</th>\n",
       "      <th>Replicate</th>\n",
       "      <th>PP2A</th>\n",
       "      <th>NRAMP1</th>\n",
       "      <th>Condition</th>\n",
       "      <th>Ratio</th>\n",
       "      <th>Ratio_Norm</th>\n",
       "      <th>NRAMP1copy</th>\n",
       "    </tr>\n",
       "  </thead>\n",
       "  <tbody>\n",
       "    <tr>\n",
       "      <th>0</th>\n",
       "      <td>Col-0</td>\n",
       "      <td>#1-1</td>\n",
       "      <td>192.1</td>\n",
       "      <td>382.5</td>\n",
       "      <td>Control</td>\n",
       "      <td>1.991150</td>\n",
       "      <td>0.935142</td>\n",
       "      <td>1</td>\n",
       "    </tr>\n",
       "    <tr>\n",
       "      <th>1</th>\n",
       "      <td>Col-0</td>\n",
       "      <td>#1-3</td>\n",
       "      <td>220.2</td>\n",
       "      <td>476.1</td>\n",
       "      <td>Control</td>\n",
       "      <td>2.162125</td>\n",
       "      <td>1.015440</td>\n",
       "      <td>1</td>\n",
       "    </tr>\n",
       "    <tr>\n",
       "      <th>2</th>\n",
       "      <td>Col-0</td>\n",
       "      <td>#1-4</td>\n",
       "      <td>201.3</td>\n",
       "      <td>422.0</td>\n",
       "      <td>Control</td>\n",
       "      <td>2.096374</td>\n",
       "      <td>0.984560</td>\n",
       "      <td>1</td>\n",
       "    </tr>\n",
       "    <tr>\n",
       "      <th>3</th>\n",
       "      <td>Col-0</td>\n",
       "      <td>#1-2</td>\n",
       "      <td>236.2</td>\n",
       "      <td>568.2</td>\n",
       "      <td>Mn</td>\n",
       "      <td>2.405588</td>\n",
       "      <td>1.129782</td>\n",
       "      <td>1</td>\n",
       "    </tr>\n",
       "    <tr>\n",
       "      <th>4</th>\n",
       "      <td>Col-0</td>\n",
       "      <td>#1-3</td>\n",
       "      <td>237.2</td>\n",
       "      <td>585.0</td>\n",
       "      <td>Mn</td>\n",
       "      <td>2.466273</td>\n",
       "      <td>1.158283</td>\n",
       "      <td>1</td>\n",
       "    </tr>\n",
       "  </tbody>\n",
       "</table>\n",
       "</div>"
      ],
      "text/plain": [
       "  Sample Replicate   PP2A  NRAMP1 Condition     Ratio  Ratio_Norm  NRAMP1copy\n",
       "0  Col-0      #1-1  192.1   382.5   Control  1.991150    0.935142           1\n",
       "1  Col-0      #1-3  220.2   476.1   Control  2.162125    1.015440           1\n",
       "2  Col-0      #1-4  201.3   422.0   Control  2.096374    0.984560           1\n",
       "3  Col-0      #1-2  236.2   568.2        Mn  2.405588    1.129782           1\n",
       "4  Col-0      #1-3  237.2   585.0        Mn  2.466273    1.158283           1"
      ]
     },
     "execution_count": 5,
     "metadata": {},
     "output_type": "execute_result"
    }
   ],
   "source": [
    "df=pd.read_table('FigS25.csv',sep='\\t')\n",
    "df.head()"
   ]
  },
  {
   "cell_type": "code",
   "execution_count": 10,
   "id": "4bbff2e4-1e49-4b9c-95db-0b69e1809b0d",
   "metadata": {},
   "outputs": [
    {
     "name": "stderr",
     "output_type": "stream",
     "text": [
      "/Users/tergemina/opt/anaconda3/lib/python3.8/site-packages/seaborn/categorical.py:1296: UserWarning: 25.0% of the points cannot be placed; you may want to decrease the size of the markers or use stripplot.\n",
      "  warnings.warn(msg, UserWarning)\n"
     ]
    },
    {
     "data": {
      "image/png": "[encoded data removed]",
      "text/plain": [
       "<Figure size 481.89x283.465 with 1 Axes>"
      ]
     },
     "metadata": {
      "needs_background": "light"
     },
     "output_type": "display_data"
    }
   ],
   "source": [
    "from matplotlib.ticker import MaxNLocator\n",
    "import matplotlib.ticker as ticker\n",
    "boxprops = {'edgecolor': 'k', 'linewidth': 1,}\n",
    "lineprops = {'color': 'k', 'linewidth': 1}\n",
    "boxplot_kwargs = dict({'boxprops': boxprops, 'medianprops': lineprops,\n",
    "                       'whiskerprops': lineprops, 'capprops': lineprops,\n",
    "                       'width': 0.75,})\n",
    "swarmplot_kwargs = dict({'linewidth': 0.6, 'size': 5})\n",
    "\n",
    "cm=1/2.54\n",
    "fig, axes = plt.subplots(figsize=(17*cm,10*cm))\n",
    "sns.boxplot(x='Sample',\n",
    "        y='Ratio_Norm',\n",
    "        data=df,\n",
    "        hue='Condition',\n",
    "        palette=['dimgray','w'],\n",
    "        **boxplot_kwargs)\n",
    "sns.swarmplot(x='Sample',\n",
    "        y='Ratio_Norm',\n",
    "        data=df,\n",
    "        dodge=True,\n",
    "        hue='Condition',\n",
    "        palette=['dimgray','w'],\n",
    "        **swarmplot_kwargs)\n",
    "h, l = axes.get_legend_handles_labels()\n",
    "axes.legend(h, l)\n",
    "axes.legend(h[0:2], l[0:2]) \n",
    "axes.set_xlabel('')\n",
    "\n",
    "\n",
    "sns.despine(trim= True)\n",
    "plt.tight_layout()\n",
    "plt.savefig(\"FigS25.png\", format=\"png\",bbox_inches=\"tight\",facecolor=\"w\",dpi=600)"
   ]
  },
  {
   "cell_type": "code",
   "execution_count": null,
   "id": "9376faa9-cea1-4212-9878-9005300fee89",
   "metadata": {},
   "outputs": [],
   "source": []
  }
 ],
 "metadata": {
  "kernelspec": {
   "display_name": "Python 3",
   "language": "python",
   "name": "python3"
  },
  "language_info": {
   "codemirror_mode": {
    "name": "ipython",
    "version": 3
   },
   "file_extension": ".py",
   "mimetype": "text/x-python",
   "name": "python",
   "nbconvert_exporter": "python",
   "pygments_lexer": "ipython3",
   "version": "3.8.8"
  }
 },
 "nbformat": 4,
 "nbformat_minor": 5
}
