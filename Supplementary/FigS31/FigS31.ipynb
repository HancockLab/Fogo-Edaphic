{
 "cells": [
  {
   "cell_type": "code",
   "execution_count": 3,
   "id": "aa32a923-e0a5-46b4-a71b-0758d313a614",
   "metadata": {},
   "outputs": [],
   "source": [
    "import pandas as pd\n",
    "import seaborn as sns\n",
    "import matplotlib.pyplot as plt\n",
    "import numpy as np"
   ]
  },
  {
   "cell_type": "code",
   "execution_count": 5,
   "id": "f0da307a-7ccc-448f-9c9f-bf65e0f60c3d",
   "metadata": {},
   "outputs": [
    {
     "data": {
      "text/html": [
       "<div>\n",
       "<style scoped>\n",
       "    .dataframe tbody tr th:only-of-type {\n",
       "        vertical-align: middle;\n",
       "    }\n",
       "\n",
       "    .dataframe tbody tr th {\n",
       "        vertical-align: top;\n",
       "    }\n",
       "\n",
       "    .dataframe thead th {\n",
       "        text-align: right;\n",
       "    }\n",
       "</style>\n",
       "<table border=\"1\" class=\"dataframe\">\n",
       "  <thead>\n",
       "    <tr style=\"text-align: right;\">\n",
       "      <th></th>\n",
       "      <th>Chromosome</th>\n",
       "      <th>Position</th>\n",
       "      <th>LR</th>\n",
       "      <th>Alpha</th>\n",
       "    </tr>\n",
       "  </thead>\n",
       "  <tbody>\n",
       "    <tr>\n",
       "      <th>0</th>\n",
       "      <td>Chr1</td>\n",
       "      <td>346</td>\n",
       "      <td>0.03168</td>\n",
       "      <td>725291</td>\n",
       "    </tr>\n",
       "    <tr>\n",
       "      <th>1</th>\n",
       "      <td>Chr1</td>\n",
       "      <td>100766</td>\n",
       "      <td>0.02193</td>\n",
       "      <td>244232</td>\n",
       "    </tr>\n",
       "    <tr>\n",
       "      <th>2</th>\n",
       "      <td>Chr1</td>\n",
       "      <td>201186</td>\n",
       "      <td>0.90380</td>\n",
       "      <td>11084</td>\n",
       "    </tr>\n",
       "    <tr>\n",
       "      <th>3</th>\n",
       "      <td>Chr1</td>\n",
       "      <td>301606</td>\n",
       "      <td>0.10234</td>\n",
       "      <td>91664</td>\n",
       "    </tr>\n",
       "    <tr>\n",
       "      <th>4</th>\n",
       "      <td>Chr1</td>\n",
       "      <td>402025</td>\n",
       "      <td>0.01039</td>\n",
       "      <td>316358</td>\n",
       "    </tr>\n",
       "  </tbody>\n",
       "</table>\n",
       "</div>"
      ],
      "text/plain": [
       "  Chromosome  Position       LR   Alpha\n",
       "0       Chr1       346  0.03168  725291\n",
       "1       Chr1    100766  0.02193  244232\n",
       "2       Chr1    201186  0.90380   11084\n",
       "3       Chr1    301606  0.10234   91664\n",
       "4       Chr1    402025  0.01039  316358"
      ]
     },
     "execution_count": 5,
     "metadata": {},
     "output_type": "execute_result"
    }
   ],
   "source": [
    "df=pd.read_table('Fig6A.csv',sep='\\t')\n",
    "df.head()"
   ]
  },
  {
   "cell_type": "code",
   "execution_count": 9,
   "id": "bb54af59-a919-4bb4-8294-8bf156ac3f8a",
   "metadata": {},
   "outputs": [
    {
     "data": {
      "text/html": [
       "<div>\n",
       "<style scoped>\n",
       "    .dataframe tbody tr th:only-of-type {\n",
       "        vertical-align: middle;\n",
       "    }\n",
       "\n",
       "    .dataframe tbody tr th {\n",
       "        vertical-align: top;\n",
       "    }\n",
       "\n",
       "    .dataframe thead th {\n",
       "        text-align: right;\n",
       "    }\n",
       "</style>\n",
       "<table border=\"1\" class=\"dataframe\">\n",
       "  <thead>\n",
       "    <tr style=\"text-align: right;\">\n",
       "      <th></th>\n",
       "      <th>Chromosome</th>\n",
       "      <th>Position</th>\n",
       "      <th>LR</th>\n",
       "      <th>Alpha</th>\n",
       "    </tr>\n",
       "  </thead>\n",
       "  <tbody>\n",
       "    <tr>\n",
       "      <th>736</th>\n",
       "      <td>Chr4</td>\n",
       "      <td>1021</td>\n",
       "      <td>0.83311</td>\n",
       "      <td>22719</td>\n",
       "    </tr>\n",
       "    <tr>\n",
       "      <th>737</th>\n",
       "      <td>Chr4</td>\n",
       "      <td>101475</td>\n",
       "      <td>1.61332</td>\n",
       "      <td>3181</td>\n",
       "    </tr>\n",
       "    <tr>\n",
       "      <th>738</th>\n",
       "      <td>Chr4</td>\n",
       "      <td>201929</td>\n",
       "      <td>1.29303</td>\n",
       "      <td>7639</td>\n",
       "    </tr>\n",
       "    <tr>\n",
       "      <th>739</th>\n",
       "      <td>Chr4</td>\n",
       "      <td>302383</td>\n",
       "      <td>2.50416</td>\n",
       "      <td>78</td>\n",
       "    </tr>\n",
       "    <tr>\n",
       "      <th>740</th>\n",
       "      <td>Chr4</td>\n",
       "      <td>402837</td>\n",
       "      <td>0.00000</td>\n",
       "      <td>188445</td>\n",
       "    </tr>\n",
       "  </tbody>\n",
       "</table>\n",
       "</div>"
      ],
      "text/plain": [
       "    Chromosome  Position       LR   Alpha\n",
       "736       Chr4      1021  0.83311   22719\n",
       "737       Chr4    101475  1.61332    3181\n",
       "738       Chr4    201929  1.29303    7639\n",
       "739       Chr4    302383  2.50416      78\n",
       "740       Chr4    402837  0.00000  188445"
      ]
     },
     "execution_count": 9,
     "metadata": {},
     "output_type": "execute_result"
    }
   ],
   "source": [
    "chr4=df.loc[df['Chromosome'] == 'Chr4']\n",
    "chr4.head()"
   ]
  },
  {
   "cell_type": "code",
   "execution_count": 13,
   "id": "1e395d9f-3e42-424a-851b-a31ad53fd604",
   "metadata": {},
   "outputs": [
    {
     "name": "stderr",
     "output_type": "stream",
     "text": [
      "/Users/tergemina/opt/anaconda3/lib/python3.8/site-packages/seaborn/_decorators.py:36: FutureWarning: Pass the following variables as keyword args: x, y. From version 0.12, the only valid positional argument will be `data`, and passing other arguments without an explicit keyword will result in an error or misinterpretation.\n",
      "  warnings.warn(\n"
     ]
    },
    {
     "data": {
      "image/png": "[encoded data removed]",
      "text/plain": [
       "<Figure size 576x576 with 1 Axes>"
      ]
     },
     "metadata": {
      "needs_background": "light"
     },
     "output_type": "display_data"
    }
   ],
   "source": [
    "fig = plt.figure(figsize=(8,8))\n",
    "sns.scatterplot(chr4['Position'],\n",
    "            chr4['LR'],\n",
    "            marker='o',\n",
    "            color='0',\n",
    "            s=25,\n",
    "            linewidth=0,\n",
    "            zorder=7)\n",
    "plt.axvline(x=10707344,linewidth=4,color='gold')\n",
    "plt.hlines(y=np.percentile(df['LR'],99),\n",
    "             xmin=min(df['Position']),\n",
    "             xmax=max(df['Position']),\n",
    "             color='r',\n",
    "             linestyle='--',\n",
    "             zorder=6)\n",
    "plt.ylabel('CLR (100 kb windows)',fontsize=14)\n",
    "plt.xlabel('Position',fontsize=14)\n",
    "plt.xlim(9038871,13130143)\n",
    "sns.despine(trim=True)\n",
    "plt.savefig(\"FigS31.png\", format=\"png\",bbox_inches=\"tight\",facecolor=\"w\",dpi=600)"
   ]
  },
  {
   "cell_type": "code",
   "execution_count": null,
   "id": "1363e85a-6d86-4db4-b6fb-57dff9277a88",
   "metadata": {},
   "outputs": [],
   "source": []
  }
 ],
 "metadata": {
  "kernelspec": {
   "display_name": "Python 3",
   "language": "python",
   "name": "python3"
  },
  "language_info": {
   "codemirror_mode": {
    "name": "ipython",
    "version": 3
   },
   "file_extension": ".py",
   "mimetype": "text/x-python",
   "name": "python",
   "nbconvert_exporter": "python",
   "pygments_lexer": "ipython3",
   "version": "3.8.8"
  }
 },
 "nbformat": 4,
 "nbformat_minor": 5
}
