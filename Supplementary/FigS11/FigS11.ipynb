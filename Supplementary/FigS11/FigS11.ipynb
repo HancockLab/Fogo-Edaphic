{
 "cells": [
  {
   "cell_type": "code",
   "execution_count": 1,
   "id": "acbc1b0a-9e1c-40c5-9b9e-cde71b100d66",
   "metadata": {},
   "outputs": [],
   "source": [
    "import pandas as pd\n",
    "import seaborn as sns\n",
    "import matplotlib\n",
    "import matplotlib.pyplot as plt\n",
    "import statsmodels.api as sm\n",
    "from statsmodels.formula.api import ols\n",
    "import numpy as np\n",
    "from scipy.stats import mannwhitneyu\n",
    "from statsmodels.stats.multicomp import MultiComparison\n",
    "import matplotlib.patches as mpl_patches\n",
    "import scipy.stats as stats\n",
    "import os\n",
    "import matplotlib.gridspec as gridspec"
   ]
  },
  {
   "cell_type": "code",
   "execution_count": 2,
   "id": "ca01176b-44ad-4d5a-a8fa-373ec2d2da63",
   "metadata": {},
   "outputs": [
    {
     "data": {
      "text/html": [
       "<div>\n",
       "<style scoped>\n",
       "    .dataframe tbody tr th:only-of-type {\n",
       "        vertical-align: middle;\n",
       "    }\n",
       "\n",
       "    .dataframe tbody tr th {\n",
       "        vertical-align: top;\n",
       "    }\n",
       "\n",
       "    .dataframe thead th {\n",
       "        text-align: right;\n",
       "    }\n",
       "</style>\n",
       "<table border=\"1\" class=\"dataframe\">\n",
       "  <thead>\n",
       "    <tr style=\"text-align: right;\">\n",
       "      <th></th>\n",
       "      <th>Individual</th>\n",
       "      <th>Red</th>\n",
       "      <th>Green</th>\n",
       "      <th>IRT1</th>\n",
       "      <th>NRAMP1</th>\n",
       "      <th>Genotype</th>\n",
       "      <th>Greenness</th>\n",
       "    </tr>\n",
       "  </thead>\n",
       "  <tbody>\n",
       "    <tr>\n",
       "      <th>0</th>\n",
       "      <td>2</td>\n",
       "      <td>108.094</td>\n",
       "      <td>165.605</td>\n",
       "      <td>1</td>\n",
       "      <td>1</td>\n",
       "      <td>HH</td>\n",
       "      <td>1.532046</td>\n",
       "    </tr>\n",
       "    <tr>\n",
       "      <th>1</th>\n",
       "      <td>3</td>\n",
       "      <td>109.157</td>\n",
       "      <td>169.087</td>\n",
       "      <td>1</td>\n",
       "      <td>1</td>\n",
       "      <td>HH</td>\n",
       "      <td>1.549026</td>\n",
       "    </tr>\n",
       "    <tr>\n",
       "      <th>2</th>\n",
       "      <td>4</td>\n",
       "      <td>118.082</td>\n",
       "      <td>174.788</td>\n",
       "      <td>1</td>\n",
       "      <td>1</td>\n",
       "      <td>HH</td>\n",
       "      <td>1.480226</td>\n",
       "    </tr>\n",
       "    <tr>\n",
       "      <th>3</th>\n",
       "      <td>5</td>\n",
       "      <td>119.839</td>\n",
       "      <td>175.189</td>\n",
       "      <td>2</td>\n",
       "      <td>2</td>\n",
       "      <td>FF</td>\n",
       "      <td>1.461870</td>\n",
       "    </tr>\n",
       "    <tr>\n",
       "      <th>4</th>\n",
       "      <td>6</td>\n",
       "      <td>111.939</td>\n",
       "      <td>174.156</td>\n",
       "      <td>1</td>\n",
       "      <td>1</td>\n",
       "      <td>HH</td>\n",
       "      <td>1.555812</td>\n",
       "    </tr>\n",
       "  </tbody>\n",
       "</table>\n",
       "</div>"
      ],
      "text/plain": [
       "   Individual      Red    Green  IRT1  NRAMP1 Genotype  Greenness\n",
       "0           2  108.094  165.605     1       1       HH   1.532046\n",
       "1           3  109.157  169.087     1       1       HH   1.549026\n",
       "2           4  118.082  174.788     1       1       HH   1.480226\n",
       "3           5  119.839  175.189     2       2       FF   1.461870\n",
       "4           6  111.939  174.156     1       1       HH   1.555812"
      ]
     },
     "execution_count": 2,
     "metadata": {},
     "output_type": "execute_result"
    }
   ],
   "source": [
    "df = pd.read_table('FigS11.csv', sep = \"\\t\")\n",
    "df.head()"
   ]
  },
  {
   "cell_type": "code",
   "execution_count": 17,
   "id": "cb579236-98c1-4137-8c6d-0dc58f187ee7",
   "metadata": {},
   "outputs": [
    {
     "data": {
      "image/png": "[encoded data removed]",
      "text/plain": [
       "<Figure size 432x288 with 1 Axes>"
      ]
     },
     "metadata": {
      "needs_background": "light"
     },
     "output_type": "display_data"
    }
   ],
   "source": [
    "Order = df.groupby('Genotype').Greenness.median().sort_values()\n",
    "fig,axes=plt.subplots()\n",
    "sns.boxplot(x='Genotype',\n",
    "            y='Greenness',\n",
    "            data=df,\n",
    "            color='grey',\n",
    "            order=Order.index)\n",
    "sns.swarmplot(x='Genotype',\n",
    "            y='Greenness',\n",
    "            data=df,\n",
    "            color='0',\n",
    "            order=Order.index,\n",
    "            s=2.5)\n",
    "plt.xlabel('')\n",
    "sns.despine(trim=True)\n",
    "plt.savefig(\"FigS11.png\", format=\"png\",bbox_inches=\"tight\",facecolor=\"w\",dpi=600)"
   ]
  },
  {
   "cell_type": "code",
   "execution_count": null,
   "id": "fd38c972-da80-4e07-99fc-8995da196b16",
   "metadata": {},
   "outputs": [],
   "source": []
  }
 ],
 "metadata": {
  "kernelspec": {
   "display_name": "Python 3",
   "language": "python",
   "name": "python3"
  },
  "language_info": {
   "codemirror_mode": {
    "name": "ipython",
    "version": 3
   },
   "file_extension": ".py",
   "mimetype": "text/x-python",
   "name": "python",
   "nbconvert_exporter": "python",
   "pygments_lexer": "ipython3",
   "version": "3.8.8"
  }
 },
 "nbformat": 4,
 "nbformat_minor": 5
}
