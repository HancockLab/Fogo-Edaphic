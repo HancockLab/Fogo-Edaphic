{
 "cells": [
  {
   "cell_type": "code",
   "execution_count": 1,
   "id": "4906e557-da38-4e5d-84f0-422d3869c883",
   "metadata": {},
   "outputs": [],
   "source": [
    "import pandas as pd\n",
    "import seaborn as sns\n",
    "import matplotlib\n",
    "import matplotlib.pyplot as plt\n",
    "import statsmodels.api as sm\n",
    "from statsmodels.formula.api import ols\n",
    "import numpy as np\n",
    "from scipy.stats import mannwhitneyu\n",
    "from statsmodels.stats.multicomp import MultiComparison\n",
    "import matplotlib.patches as mpl_patches\n",
    "import scipy.stats as stats\n",
    "import os\n",
    "import matplotlib.gridspec as gridspec"
   ]
  },
  {
   "cell_type": "code",
   "execution_count": 3,
   "id": "af987786-97ce-4b5c-90c7-b2e17a482e57",
   "metadata": {},
   "outputs": [
    {
     "data": {
      "text/html": [
       "<div>\n",
       "<style scoped>\n",
       "    .dataframe tbody tr th:only-of-type {\n",
       "        vertical-align: middle;\n",
       "    }\n",
       "\n",
       "    .dataframe tbody tr th {\n",
       "        vertical-align: top;\n",
       "    }\n",
       "\n",
       "    .dataframe thead th {\n",
       "        text-align: right;\n",
       "    }\n",
       "</style>\n",
       "<table border=\"1\" class=\"dataframe\">\n",
       "  <thead>\n",
       "    <tr style=\"text-align: right;\">\n",
       "      <th></th>\n",
       "      <th>Sample</th>\n",
       "      <th>Replicate</th>\n",
       "      <th>Cp_PP2A</th>\n",
       "      <th>Cp_NRAMP1</th>\n",
       "      <th>∆_PP2A</th>\n",
       "      <th>∆_NRAMP1</th>\n",
       "      <th>Ratio</th>\n",
       "    </tr>\n",
       "  </thead>\n",
       "  <tbody>\n",
       "    <tr>\n",
       "      <th>0</th>\n",
       "      <td>F13-8</td>\n",
       "      <td>#1</td>\n",
       "      <td>26.33</td>\n",
       "      <td>25.75</td>\n",
       "      <td>1.23</td>\n",
       "      <td>2.39</td>\n",
       "      <td>2.20</td>\n",
       "    </tr>\n",
       "    <tr>\n",
       "      <th>1</th>\n",
       "      <td>F13-8</td>\n",
       "      <td>#2</td>\n",
       "      <td>26.53</td>\n",
       "      <td>25.81</td>\n",
       "      <td>1.03</td>\n",
       "      <td>2.33</td>\n",
       "      <td>2.41</td>\n",
       "    </tr>\n",
       "    <tr>\n",
       "      <th>2</th>\n",
       "      <td>F13-8</td>\n",
       "      <td>#3</td>\n",
       "      <td>27.17</td>\n",
       "      <td>26.66</td>\n",
       "      <td>0.39</td>\n",
       "      <td>1.48</td>\n",
       "      <td>2.09</td>\n",
       "    </tr>\n",
       "    <tr>\n",
       "      <th>3</th>\n",
       "      <td>Col-0</td>\n",
       "      <td>#1</td>\n",
       "      <td>27.81</td>\n",
       "      <td>28.61</td>\n",
       "      <td>-0.25</td>\n",
       "      <td>-0.47</td>\n",
       "      <td>0.86</td>\n",
       "    </tr>\n",
       "    <tr>\n",
       "      <th>4</th>\n",
       "      <td>Col-0</td>\n",
       "      <td>#2</td>\n",
       "      <td>27.44</td>\n",
       "      <td>27.55</td>\n",
       "      <td>0.12</td>\n",
       "      <td>0.59</td>\n",
       "      <td>1.38</td>\n",
       "    </tr>\n",
       "  </tbody>\n",
       "</table>\n",
       "</div>"
      ],
      "text/plain": [
       "  Sample Replicate  Cp_PP2A  Cp_NRAMP1  ∆_PP2A  ∆_NRAMP1  Ratio\n",
       "0  F13-8        #1    26.33      25.75    1.23      2.39   2.20\n",
       "1  F13-8        #2    26.53      25.81    1.03      2.33   2.41\n",
       "2  F13-8        #3    27.17      26.66    0.39      1.48   2.09\n",
       "3  Col-0        #1    27.81      28.61   -0.25     -0.47   0.86\n",
       "4  Col-0        #2    27.44      27.55    0.12      0.59   1.38"
      ]
     },
     "execution_count": 3,
     "metadata": {},
     "output_type": "execute_result"
    }
   ],
   "source": [
    "df = pd.read_table('FigS9C.csv', sep = \"\\t\")\n",
    "df.head()"
   ]
  },
  {
   "cell_type": "code",
   "execution_count": 30,
   "id": "c03cf088-3fbd-4b5c-b0aa-b1261ee924fe",
   "metadata": {},
   "outputs": [
    {
     "data": {
      "image/png": "[encoded data removed]",
      "text/plain": [
       "<Figure size 198.425x198.425 with 1 Axes>"
      ]
     },
     "metadata": {
      "needs_background": "light"
     },
     "output_type": "display_data"
    }
   ],
   "source": [
    "Order=['Col-0','F13-8']\n",
    "test=stats.ttest_ind(df.loc[df['Sample'] == 'F13-8','Ratio'], df.loc[df['Sample'] == 'Col-0','Ratio'])\n",
    "cm=1/2.54\n",
    "fig,axes= plt.subplots(figsize=(7*cm,7*cm))\n",
    "sns.boxplot(x='Sample',\n",
    "            y='Ratio',\n",
    "            data=df,\n",
    "            color = 'grey',\n",
    "            order=Order)\n",
    "sns.swarmplot(x='Sample',\n",
    "              y='Ratio',\n",
    "              data=df,\n",
    "              color = 'k',\n",
    "              s = 4,\n",
    "              order=Order)\n",
    "axes.text(0.04, 3, '$\\itP$ = {:.0e}'.format(test[1],fontsize=12))\n",
    "plt.ylim(0.6,2.8)\n",
    "sns.despine(trim=True,offset=5)\n",
    "plt.ylabel('NRAMP1/PP2A',fontsize=12)\n",
    "\n",
    "plt.tick_params(labelsize=12)\n",
    "plt.xlabel('')\n",
    "plt.savefig(\"FigS9C.png\", format=\"png\",bbox_inches=\"tight\", facecolor=\"w\", dpi=400)"
   ]
  },
  {
   "cell_type": "code",
   "execution_count": null,
   "id": "f0e08c9c-a635-4f79-af20-d05bf19eaac8",
   "metadata": {},
   "outputs": [],
   "source": []
  }
 ],
 "metadata": {
  "kernelspec": {
   "display_name": "Python 3",
   "language": "python",
   "name": "python3"
  },
  "language_info": {
   "codemirror_mode": {
    "name": "ipython",
    "version": 3
   },
   "file_extension": ".py",
   "mimetype": "text/x-python",
   "name": "python",
   "nbconvert_exporter": "python",
   "pygments_lexer": "ipython3",
   "version": "3.8.8"
  }
 },
 "nbformat": 4,
 "nbformat_minor": 5
}
