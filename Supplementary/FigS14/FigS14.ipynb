{
 "cells": [
  {
   "cell_type": "code",
   "execution_count": 1,
   "id": "69246e8f-f126-4f7d-af9f-007d8d6e5638",
   "metadata": {},
   "outputs": [],
   "source": [
    "import pandas as pd\n",
    "import seaborn as sns\n",
    "import matplotlib.pyplot as plt\n",
    "import statsmodels.api as sm\n",
    "from statsmodels.formula.api import ols\n",
    "import numpy as np\n",
    "from statsmodels.stats.multicomp import pairwise_tukeyhsd\n",
    "from statsmodels.stats.multicomp import MultiComparison\n",
    "import scipy.stats as stats\n",
    "import os"
   ]
  },
  {
   "cell_type": "code",
   "execution_count": 4,
   "id": "682273e5-2e65-49c3-ab51-a59c8ab1fd56",
   "metadata": {},
   "outputs": [
    {
     "data": {
      "text/html": [
       "<div>\n",
       "<style scoped>\n",
       "    .dataframe tbody tr th:only-of-type {\n",
       "        vertical-align: middle;\n",
       "    }\n",
       "\n",
       "    .dataframe tbody tr th {\n",
       "        vertical-align: top;\n",
       "    }\n",
       "\n",
       "    .dataframe thead th {\n",
       "        text-align: right;\n",
       "    }\n",
       "</style>\n",
       "<table border=\"1\" class=\"dataframe\">\n",
       "  <thead>\n",
       "    <tr style=\"text-align: right;\">\n",
       "      <th></th>\n",
       "      <th>Genotype</th>\n",
       "      <th>Individual</th>\n",
       "      <th>Condition</th>\n",
       "      <th>Red</th>\n",
       "      <th>Green</th>\n",
       "      <th>Greenness</th>\n",
       "      <th>Area (cm2)</th>\n",
       "    </tr>\n",
       "  </thead>\n",
       "  <tbody>\n",
       "    <tr>\n",
       "      <th>0</th>\n",
       "      <td>Col-0</td>\n",
       "      <td>#1</td>\n",
       "      <td>Fe</td>\n",
       "      <td>119.1587</td>\n",
       "      <td>142.4878</td>\n",
       "      <td>1.195782</td>\n",
       "      <td>12.0336</td>\n",
       "    </tr>\n",
       "    <tr>\n",
       "      <th>1</th>\n",
       "      <td>Col-0</td>\n",
       "      <td>#2</td>\n",
       "      <td>Fe</td>\n",
       "      <td>112.9515</td>\n",
       "      <td>136.9591</td>\n",
       "      <td>1.212548</td>\n",
       "      <td>13.0238</td>\n",
       "    </tr>\n",
       "    <tr>\n",
       "      <th>2</th>\n",
       "      <td>Col-0</td>\n",
       "      <td>#3</td>\n",
       "      <td>Fe</td>\n",
       "      <td>115.1010</td>\n",
       "      <td>137.8381</td>\n",
       "      <td>1.197540</td>\n",
       "      <td>10.6260</td>\n",
       "    </tr>\n",
       "    <tr>\n",
       "      <th>3</th>\n",
       "      <td>Col-0</td>\n",
       "      <td>#4</td>\n",
       "      <td>Fe</td>\n",
       "      <td>136.1526</td>\n",
       "      <td>154.5283</td>\n",
       "      <td>1.134964</td>\n",
       "      <td>5.5982</td>\n",
       "    </tr>\n",
       "    <tr>\n",
       "      <th>4</th>\n",
       "      <td>Col-0</td>\n",
       "      <td>#5</td>\n",
       "      <td>Fe</td>\n",
       "      <td>117.7164</td>\n",
       "      <td>139.7615</td>\n",
       "      <td>1.187273</td>\n",
       "      <td>8.0635</td>\n",
       "    </tr>\n",
       "  </tbody>\n",
       "</table>\n",
       "</div>"
      ],
      "text/plain": [
       "  Genotype Individual Condition       Red     Green  Greenness  Area (cm2)\n",
       "0    Col-0         #1        Fe  119.1587  142.4878   1.195782     12.0336\n",
       "1    Col-0         #2        Fe  112.9515  136.9591   1.212548     13.0238\n",
       "2    Col-0         #3        Fe  115.1010  137.8381   1.197540     10.6260\n",
       "3    Col-0         #4        Fe  136.1526  154.5283   1.134964      5.5982\n",
       "4    Col-0         #5        Fe  117.7164  139.7615   1.187273      8.0635"
      ]
     },
     "execution_count": 4,
     "metadata": {},
     "output_type": "execute_result"
    }
   ],
   "source": [
    "df=pd.read_table('FigS14.csv',sep='\\t')\n",
    "df.head()"
   ]
  },
  {
   "cell_type": "code",
   "execution_count": 8,
   "id": "189fa3bc-5ac0-481e-94d2-7b0e97c56f50",
   "metadata": {},
   "outputs": [],
   "source": [
    "Fe=df.loc[df['Condition'] == 'Fe']\n",
    "Control=df.loc[df['Condition'] == 'Standard']"
   ]
  },
  {
   "cell_type": "code",
   "execution_count": 14,
   "id": "f61a4e40-7db7-47b9-99d5-7a1e946d4696",
   "metadata": {},
   "outputs": [
    {
     "data": {
      "image/png": "[encoded data removed]",
      "text/plain": [
       "<Figure size 481.89x396.85 with 4 Axes>"
      ]
     },
     "metadata": {
      "needs_background": "light"
     },
     "output_type": "display_data"
    }
   ],
   "source": [
    "from matplotlib.ticker import MaxNLocator\n",
    "import matplotlib.ticker as ticker\n",
    "boxprops = {'edgecolor': 'black', 'linewidth': 0.5, 'facecolor': 'grey'}\n",
    "lineprops = {'color': 'k', 'linewidth': 0.5}\n",
    "boxplot_kwargs = dict({'boxprops': boxprops, 'medianprops': lineprops,\n",
    "                       'whiskerprops': lineprops, 'capprops': lineprops,\n",
    "                       'width': 0.6})\n",
    "swarmplot_kwargs = dict({'size': 1.5,'color':'black'})\n",
    "Order=['Col-0','Col-0-irt1','S1-1','S1-1-irt1','F10-13-1','F13-8','F3-2']\n",
    "cm=1/2.54\n",
    "fig,axes = plt.subplots(2,2,sharey='row',figsize=(17*cm,14*cm))\n",
    "def plot(phenotype,idx1,idx2,condition):\n",
    "    sns.boxplot(x='Genotype',\n",
    "                y=phenotype,\n",
    "                data=df.loc[df['Condition'] == condition],\n",
    "                color='grey',\n",
    "                order=Order,\n",
    "                ax=axes[idx1,idx2])\n",
    "    sns.swarmplot(x='Genotype',\n",
    "                y=phenotype,\n",
    "                data=df.loc[df['Condition'] == condition],\n",
    "                color='0',\n",
    "                order=Order,\n",
    "                s=4,\n",
    "                ax=axes[idx1,idx2])\n",
    "    axes[idx1,idx2].set_xlabel('')\n",
    "    axes[idx1,idx2].tick_params(labelsize=10)\n",
    "    axes[idx1,idx2].tick_params(labelsize=10,axis='x',rotation=90)\n",
    "    axes[idx1,idx2].set_xlabel('')\n",
    "\n",
    "plot('Greenness',0,0,'Standard') \n",
    "axes[0,0].set_ylim(ymax=1.25)\n",
    "axes[0,0].set_ylabel('Greenness')\n",
    "axes[0,0].set_title('-Fe',fontsize=14)\n",
    "axes[0,0].set_xticklabels([])\n",
    "plot('Greenness',0,1,'Fe') \n",
    "axes[0,1].set_ylabel('')\n",
    "axes[0,1].set_title('+Fe',fontsize=14)\n",
    "axes[0,1].set_xticklabels([])\n",
    "plot('Area (cm2)',1,0,'Standard')  \n",
    "axes[1,0].set_ylabel('Segmented area in cm$^2$')\n",
    "plot('Area (cm2)',1,1,'Fe')    \n",
    "axes[1,1].set_ylabel('')\n",
    "sns.despine(trim=True)\n",
    "axes[1,0].tick_params(labelrotation=90,labelsize=8,axis='x')\n",
    "axes[1,1].tick_params(labelrotation=90,labelsize=8,axis='x')\n",
    "fig.align_ylabels(axes[:, ])\n",
    "plt.tight_layout(pad=0.4, w_pad=0.3, h_pad=0)\n",
    "plt.savefig(\"FigS14.png\", format=\"png\",bbox_inches=\"tight\",facecolor=\"w\",dpi=600)\n",
    "\n"
   ]
  },
  {
   "cell_type": "code",
   "execution_count": null,
   "id": "74e90ff9-30e3-4584-aa48-5a39468e2af3",
   "metadata": {},
   "outputs": [],
   "source": []
  }
 ],
 "metadata": {
  "kernelspec": {
   "display_name": "Python 3",
   "language": "python",
   "name": "python3"
  },
  "language_info": {
   "codemirror_mode": {
    "name": "ipython",
    "version": 3
   },
   "file_extension": ".py",
   "mimetype": "text/x-python",
   "name": "python",
   "nbconvert_exporter": "python",
   "pygments_lexer": "ipython3",
   "version": "3.8.8"
  }
 },
 "nbformat": 4,
 "nbformat_minor": 5
}
