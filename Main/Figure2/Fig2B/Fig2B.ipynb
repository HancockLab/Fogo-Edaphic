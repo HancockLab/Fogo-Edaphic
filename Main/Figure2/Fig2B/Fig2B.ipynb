{
 "cells": [
  {
   "cell_type": "code",
   "execution_count": 1,
   "id": "3d434c65-6613-4135-be34-4bd55b64d26d",
   "metadata": {},
   "outputs": [],
   "source": [
    "import pandas as pd\n",
    "import seaborn as sns\n",
    "import statsmodels\n",
    "import matplotlib.pyplot as plt\n",
    "import statsmodels.api as sm\n",
    "import statsmodels.formula.api as sfa\n",
    "from statsmodels.formula.api import ols\n",
    "import numpy as np\n",
    "from statsmodels.stats.multicomp import pairwise_tukeyhsd\n",
    "from statsmodels.stats.multicomp import MultiComparison\n",
    "import scipy.stats as stats\n",
    "import os"
   ]
  },
  {
   "cell_type": "code",
   "execution_count": 11,
   "id": "1411b982-9568-476c-a042-ad8ea5b50cee",
   "metadata": {},
   "outputs": [
    {
     "data": {
      "text/html": [
       "<div>\n",
       "<style scoped>\n",
       "    .dataframe tbody tr th:only-of-type {\n",
       "        vertical-align: middle;\n",
       "    }\n",
       "\n",
       "    .dataframe tbody tr th {\n",
       "        vertical-align: top;\n",
       "    }\n",
       "\n",
       "    .dataframe thead th {\n",
       "        text-align: right;\n",
       "    }\n",
       "</style>\n",
       "<table border=\"1\" class=\"dataframe\">\n",
       "  <thead>\n",
       "    <tr style=\"text-align: right;\">\n",
       "      <th></th>\n",
       "      <th>Individual</th>\n",
       "      <th>Red</th>\n",
       "      <th>Green</th>\n",
       "      <th>IRT1</th>\n",
       "      <th>NRAMP1</th>\n",
       "      <th>Genotype</th>\n",
       "      <th>Greenness</th>\n",
       "    </tr>\n",
       "  </thead>\n",
       "  <tbody>\n",
       "    <tr>\n",
       "      <th>0</th>\n",
       "      <td>2</td>\n",
       "      <td>108.094</td>\n",
       "      <td>165.605</td>\n",
       "      <td>1</td>\n",
       "      <td>1</td>\n",
       "      <td>HH</td>\n",
       "      <td>1.532046</td>\n",
       "    </tr>\n",
       "    <tr>\n",
       "      <th>1</th>\n",
       "      <td>3</td>\n",
       "      <td>109.157</td>\n",
       "      <td>169.087</td>\n",
       "      <td>1</td>\n",
       "      <td>1</td>\n",
       "      <td>HH</td>\n",
       "      <td>1.549026</td>\n",
       "    </tr>\n",
       "    <tr>\n",
       "      <th>2</th>\n",
       "      <td>4</td>\n",
       "      <td>118.082</td>\n",
       "      <td>174.788</td>\n",
       "      <td>1</td>\n",
       "      <td>1</td>\n",
       "      <td>HH</td>\n",
       "      <td>1.480226</td>\n",
       "    </tr>\n",
       "    <tr>\n",
       "      <th>3</th>\n",
       "      <td>5</td>\n",
       "      <td>119.839</td>\n",
       "      <td>175.189</td>\n",
       "      <td>2</td>\n",
       "      <td>2</td>\n",
       "      <td>FF</td>\n",
       "      <td>1.461870</td>\n",
       "    </tr>\n",
       "    <tr>\n",
       "      <th>4</th>\n",
       "      <td>6</td>\n",
       "      <td>111.939</td>\n",
       "      <td>174.156</td>\n",
       "      <td>1</td>\n",
       "      <td>1</td>\n",
       "      <td>HH</td>\n",
       "      <td>1.555812</td>\n",
       "    </tr>\n",
       "  </tbody>\n",
       "</table>\n",
       "</div>"
      ],
      "text/plain": [
       "   Individual      Red    Green  IRT1  NRAMP1 Genotype  Greenness\n",
       "0           2  108.094  165.605     1       1       HH   1.532046\n",
       "1           3  109.157  169.087     1       1       HH   1.549026\n",
       "2           4  118.082  174.788     1       1       HH   1.480226\n",
       "3           5  119.839  175.189     2       2       FF   1.461870\n",
       "4           6  111.939  174.156     1       1       HH   1.555812"
      ]
     },
     "execution_count": 11,
     "metadata": {},
     "output_type": "execute_result"
    }
   ],
   "source": [
    "df = pd.read_csv('Fig2B.csv', sep = \"\\t\")\n",
    "df.head()"
   ]
  },
  {
   "cell_type": "code",
   "execution_count": 12,
   "id": "a7f867b6-1151-4bbb-9621-0ebf3d33e213",
   "metadata": {},
   "outputs": [],
   "source": [
    "df_filtered=df.loc[(df['Genotype'] != 'Col-0') & (df['Genotype'] != 'F13-8')]"
   ]
  },
  {
   "cell_type": "code",
   "execution_count": 13,
   "id": "b1196843-b0c8-4be6-875d-0d5ef93ca1cc",
   "metadata": {},
   "outputs": [
    {
     "data": {
      "image/png": "[encoded data removed]",
      "text/plain": [
       "<Figure size 212.598x212.598 with 1 Axes>"
      ]
     },
     "metadata": {
      "needs_background": "light"
     },
     "output_type": "display_data"
    }
   ],
   "source": [
    "cm = 1/2.54\n",
    "f, ax = plt.subplots(1,figsize=(7.5*cm, 7.5*cm))                               \n",
    "plt.hist(df_filtered['Greenness'],\n",
    "               stacked=True,\n",
    "                bins=25,\n",
    "                alpha=0.9,\n",
    "                color=['gray'],\n",
    "                histtype='bar', \n",
    "                ec='black')\n",
    "plt.axvline(df.groupby('Genotype').get_group('Col-0').Greenness.mean(), \n",
    "            linestyle='dashed', \n",
    "            color = 'red',\n",
    "            label = 'Col-0',\n",
    "            linewidth=3)\n",
    "plt.axvline(df.groupby('Genotype').get_group('F13-8').Greenness.mean(), \n",
    "            linestyle='dashed', \n",
    "            color = 'gold',\n",
    "            label = 'F13-8',\n",
    "            linewidth=3)\n",
    "plt.legend(['Col-0','F13-8','F2'],fontsize=8,loc='upper left')\n",
    "plt.tick_params(labelsize=8)\n",
    "plt.xlabel('Greenness',fontsize=10)\n",
    "plt.ylabel('Count',fontsize=10)\n",
    "sns.despine(offset=10, trim=True)\n",
    "plt.savefig(\"Fig2B.png\", format=\"png\",bbox_inches=\"tight\",facecolor='w',dpi=800)"
   ]
  },
  {
   "cell_type": "code",
   "execution_count": null,
   "id": "d4cdd05f-c829-47f2-a0d5-d17cfe97aa45",
   "metadata": {},
   "outputs": [],
   "source": []
  }
 ],
 "metadata": {
  "kernelspec": {
   "display_name": "Python 3",
   "language": "python",
   "name": "python3"
  },
  "language_info": {
   "codemirror_mode": {
    "name": "ipython",
    "version": 3
   },
   "file_extension": ".py",
   "mimetype": "text/x-python",
   "name": "python",
   "nbconvert_exporter": "python",
   "pygments_lexer": "ipython3",
   "version": "3.8.8"
  }
 },
 "nbformat": 4,
 "nbformat_minor": 5
}
