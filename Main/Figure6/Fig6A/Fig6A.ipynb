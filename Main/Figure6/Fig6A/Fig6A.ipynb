{
 "cells": [
  {
   "cell_type": "code",
   "execution_count": 1,
   "id": "92f97f55-30de-4b9b-bd37-c7ed10fa2b84",
   "metadata": {},
   "outputs": [],
   "source": [
    "import pandas as pd\n",
    "import seaborn as sns\n",
    "import matplotlib.pyplot as plt\n",
    "import numpy as np"
   ]
  },
  {
   "cell_type": "code",
   "execution_count": 2,
   "id": "08a0371e-4439-4f8c-9356-72f607568847",
   "metadata": {},
   "outputs": [
    {
     "data": {
      "text/html": [
       "<div>\n",
       "<style scoped>\n",
       "    .dataframe tbody tr th:only-of-type {\n",
       "        vertical-align: middle;\n",
       "    }\n",
       "\n",
       "    .dataframe tbody tr th {\n",
       "        vertical-align: top;\n",
       "    }\n",
       "\n",
       "    .dataframe thead th {\n",
       "        text-align: right;\n",
       "    }\n",
       "</style>\n",
       "<table border=\"1\" class=\"dataframe\">\n",
       "  <thead>\n",
       "    <tr style=\"text-align: right;\">\n",
       "      <th></th>\n",
       "      <th>Chromosome</th>\n",
       "      <th>Position</th>\n",
       "      <th>LR</th>\n",
       "      <th>Alpha</th>\n",
       "    </tr>\n",
       "  </thead>\n",
       "  <tbody>\n",
       "    <tr>\n",
       "      <th>0</th>\n",
       "      <td>Chr1</td>\n",
       "      <td>346</td>\n",
       "      <td>0.03168</td>\n",
       "      <td>725291</td>\n",
       "    </tr>\n",
       "    <tr>\n",
       "      <th>1</th>\n",
       "      <td>Chr1</td>\n",
       "      <td>100766</td>\n",
       "      <td>0.02193</td>\n",
       "      <td>244232</td>\n",
       "    </tr>\n",
       "    <tr>\n",
       "      <th>2</th>\n",
       "      <td>Chr1</td>\n",
       "      <td>201186</td>\n",
       "      <td>0.90380</td>\n",
       "      <td>11084</td>\n",
       "    </tr>\n",
       "    <tr>\n",
       "      <th>3</th>\n",
       "      <td>Chr1</td>\n",
       "      <td>301606</td>\n",
       "      <td>0.10234</td>\n",
       "      <td>91664</td>\n",
       "    </tr>\n",
       "    <tr>\n",
       "      <th>4</th>\n",
       "      <td>Chr1</td>\n",
       "      <td>402025</td>\n",
       "      <td>0.01039</td>\n",
       "      <td>316358</td>\n",
       "    </tr>\n",
       "  </tbody>\n",
       "</table>\n",
       "</div>"
      ],
      "text/plain": [
       "  Chromosome  Position       LR   Alpha\n",
       "0       Chr1       346  0.03168  725291\n",
       "1       Chr1    100766  0.02193  244232\n",
       "2       Chr1    201186  0.90380   11084\n",
       "3       Chr1    301606  0.10234   91664\n",
       "4       Chr1    402025  0.01039  316358"
      ]
     },
     "execution_count": 2,
     "metadata": {},
     "output_type": "execute_result"
    }
   ],
   "source": [
    "df=pd.read_table('Fig6A.csv',sep='\\t')\n",
    "df.head()"
   ]
  },
  {
   "cell_type": "code",
   "execution_count": 6,
   "id": "9ab2891d-c737-4407-948a-7058ef1a11d2",
   "metadata": {},
   "outputs": [],
   "source": [
    "space=4000000\n",
    "Chr1=30427671 / 2 \n",
    "Chr2=30427671 + 19698289 / 2 + space\n",
    "Chr3=30427671 + 19698289 + 23459830 / 2 + space * 2\n",
    "Chr4=30427671 + 19698289 + 23459830 + 18585056 / 2 + space * 3\n",
    "Chr5=30427671 + 19698289 + 23459830 + 18585056 + 26975502 / 2 + space * 4"
   ]
  },
  {
   "cell_type": "code",
   "execution_count": 4,
   "id": "3f1cb3dc-f2c7-4389-ac96-3a6a4041a715",
   "metadata": {},
   "outputs": [
    {
     "data": {
      "text/html": [
       "<div>\n",
       "<style scoped>\n",
       "    .dataframe tbody tr th:only-of-type {\n",
       "        vertical-align: middle;\n",
       "    }\n",
       "\n",
       "    .dataframe tbody tr th {\n",
       "        vertical-align: top;\n",
       "    }\n",
       "\n",
       "    .dataframe thead th {\n",
       "        text-align: right;\n",
       "    }\n",
       "</style>\n",
       "<table border=\"1\" class=\"dataframe\">\n",
       "  <thead>\n",
       "    <tr style=\"text-align: right;\">\n",
       "      <th></th>\n",
       "      <th>Chromosome</th>\n",
       "      <th>Position</th>\n",
       "      <th>LR</th>\n",
       "      <th>Alpha</th>\n",
       "      <th>Genome</th>\n",
       "    </tr>\n",
       "  </thead>\n",
       "  <tbody>\n",
       "    <tr>\n",
       "      <th>0</th>\n",
       "      <td>Chr1</td>\n",
       "      <td>346</td>\n",
       "      <td>0.03168</td>\n",
       "      <td>725291</td>\n",
       "      <td>346</td>\n",
       "    </tr>\n",
       "    <tr>\n",
       "      <th>1</th>\n",
       "      <td>Chr1</td>\n",
       "      <td>100766</td>\n",
       "      <td>0.02193</td>\n",
       "      <td>244232</td>\n",
       "      <td>100766</td>\n",
       "    </tr>\n",
       "    <tr>\n",
       "      <th>2</th>\n",
       "      <td>Chr1</td>\n",
       "      <td>201186</td>\n",
       "      <td>0.90380</td>\n",
       "      <td>11084</td>\n",
       "      <td>201186</td>\n",
       "    </tr>\n",
       "    <tr>\n",
       "      <th>3</th>\n",
       "      <td>Chr1</td>\n",
       "      <td>301606</td>\n",
       "      <td>0.10234</td>\n",
       "      <td>91664</td>\n",
       "      <td>301606</td>\n",
       "    </tr>\n",
       "    <tr>\n",
       "      <th>4</th>\n",
       "      <td>Chr1</td>\n",
       "      <td>402025</td>\n",
       "      <td>0.01039</td>\n",
       "      <td>316358</td>\n",
       "      <td>402025</td>\n",
       "    </tr>\n",
       "  </tbody>\n",
       "</table>\n",
       "</div>"
      ],
      "text/plain": [
       "  Chromosome  Position       LR   Alpha  Genome\n",
       "0       Chr1       346  0.03168  725291     346\n",
       "1       Chr1    100766  0.02193  244232  100766\n",
       "2       Chr1    201186  0.90380   11084  201186\n",
       "3       Chr1    301606  0.10234   91664  301606\n",
       "4       Chr1    402025  0.01039  316358  402025"
      ]
     },
     "execution_count": 4,
     "metadata": {},
     "output_type": "execute_result"
    }
   ],
   "source": [
    "space=4000000\n",
    "df['Genome'] = np.select([df['Chromosome'] == 'Chr1', \n",
    "                          df['Chromosome'] == 'Chr2', \n",
    "                          df['Chromosome'] == 'Chr3', \n",
    "                          df['Chromosome'] == 'Chr4', \n",
    "                          df['Chromosome'] == 'Chr5'],\n",
    "                         [df['Position'], \n",
    "                          df['Position'] + 30427671 + space, \n",
    "                          df['Position'] + 30427671 + 19698289 + space * 2,\n",
    "                          df['Position'] + 30427671 + 19698289 + 23459830 + space * 3,\n",
    "                          df['Position'] + 30427671 + 19698289 + 23459830 + 18585056 + space * 4])\n",
    "df.head()"
   ]
  },
  {
   "cell_type": "code",
   "execution_count": 13,
   "id": "1e55341d-3d41-4e9a-9a38-c4435bf75638",
   "metadata": {},
   "outputs": [
    {
     "data": {
      "image/png": "[encoded data removed]",
      "text/plain": [
       "<Figure size 432x288 with 1 Axes>"
      ]
     },
     "metadata": {
      "needs_background": "light"
     },
     "output_type": "display_data"
    }
   ],
   "source": [
    "sns.scatterplot(x='Genome',\n",
    "                y='LR',\n",
    "                data=df,\n",
    "                marker='o',\n",
    "                color='0',\n",
    "                s=5,\n",
    "                linewidth=0)\n",
    "colors = plt.cm.cividis(np.linspace(0,1,5))\n",
    "plt.hlines(y=np.percentile(df['LR'],95),\n",
    "             xmin=min(df['Genome']),\n",
    "             xmax=max(df['Genome']),\n",
    "             color='r',\n",
    "             linestyle='--',\n",
    "             zorder=6)\n",
    "plt.xlabel('',fontsize=10)\n",
    "plt.ylabel('',fontsize=10)\n",
    "plt.xticks([Chr1,Chr2,Chr3,Chr4,Chr5],[\"Chr1\", \"Chr2\", \"Chr3\", \"Chr4\", \"Chr5\"])\n",
    "sns.despine(trim=True)\n",
    "plt.savefig(\"Fig6A.png\", format=\"png\",bbox_inches=\"tight\",facecolor=\"w\",dpi=400)"
   ]
  },
  {
   "cell_type": "code",
   "execution_count": null,
   "id": "3dcedca3-9789-49bc-9c53-398bc1faad1e",
   "metadata": {},
   "outputs": [],
   "source": []
  }
 ],
 "metadata": {
  "kernelspec": {
   "display_name": "Python 3",
   "language": "python",
   "name": "python3"
  },
  "language_info": {
   "codemirror_mode": {
    "name": "ipython",
    "version": 3
   },
   "file_extension": ".py",
   "mimetype": "text/x-python",
   "name": "python",
   "nbconvert_exporter": "python",
   "pygments_lexer": "ipython3",
   "version": "3.8.8"
  }
 },
 "nbformat": 4,
 "nbformat_minor": 5
}
