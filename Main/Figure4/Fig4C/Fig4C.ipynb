{
 "cells": [
  {
   "cell_type": "code",
   "execution_count": 1,
   "id": "0a584c17-4753-489c-a760-80efcf9610d6",
   "metadata": {},
   "outputs": [],
   "source": [
    "import pandas as pd\n",
    "import seaborn as sns\n",
    "import matplotlib.pyplot as plt\n",
    "import numpy as np\n",
    "import os\n",
    "from scipy import stats\n",
    "from matplotlib.offsetbox import AnchoredText\n",
    "import matplotlib.patches as mpl_patches\n",
    "from scipy.stats import spearmanr\n",
    "from matplotlib.ticker import MaxNLocator\n",
    "import matplotlib.ticker as ticker\n",
    "from matplotlib import gridspec"
   ]
  },
  {
   "cell_type": "code",
   "execution_count": 2,
   "id": "11cc0df8-9a63-4fa5-9083-72043e65fa38",
   "metadata": {},
   "outputs": [
    {
     "data": {
      "text/html": [
       "<div>\n",
       "<style scoped>\n",
       "    .dataframe tbody tr th:only-of-type {\n",
       "        vertical-align: middle;\n",
       "    }\n",
       "\n",
       "    .dataframe tbody tr th {\n",
       "        vertical-align: top;\n",
       "    }\n",
       "\n",
       "    .dataframe thead th {\n",
       "        text-align: right;\n",
       "    }\n",
       "</style>\n",
       "<table border=\"1\" class=\"dataframe\">\n",
       "  <thead>\n",
       "    <tr style=\"text-align: right;\">\n",
       "      <th></th>\n",
       "      <th>Accession</th>\n",
       "      <th>Area (cm2)</th>\n",
       "      <th>Greenness</th>\n",
       "      <th>NRAMP1copy</th>\n",
       "    </tr>\n",
       "  </thead>\n",
       "  <tbody>\n",
       "    <tr>\n",
       "      <th>0</th>\n",
       "      <td>F1-201</td>\n",
       "      <td>0.666830</td>\n",
       "      <td>1.096656</td>\n",
       "      <td>3.473466</td>\n",
       "    </tr>\n",
       "    <tr>\n",
       "      <th>1</th>\n",
       "      <td>F1-203</td>\n",
       "      <td>0.285002</td>\n",
       "      <td>1.062979</td>\n",
       "      <td>3.354630</td>\n",
       "    </tr>\n",
       "    <tr>\n",
       "      <th>2</th>\n",
       "      <td>F1-3</td>\n",
       "      <td>0.903907</td>\n",
       "      <td>1.101609</td>\n",
       "      <td>2.696935</td>\n",
       "    </tr>\n",
       "    <tr>\n",
       "      <th>3</th>\n",
       "      <td>F1-7</td>\n",
       "      <td>0.711037</td>\n",
       "      <td>1.075740</td>\n",
       "      <td>3.123581</td>\n",
       "    </tr>\n",
       "    <tr>\n",
       "      <th>4</th>\n",
       "      <td>F10-1-3</td>\n",
       "      <td>0.502910</td>\n",
       "      <td>1.042578</td>\n",
       "      <td>1.857687</td>\n",
       "    </tr>\n",
       "  </tbody>\n",
       "</table>\n",
       "</div>"
      ],
      "text/plain": [
       "  Accession  Area (cm2)  Greenness  NRAMP1copy\n",
       "0    F1-201    0.666830   1.096656    3.473466\n",
       "1    F1-203    0.285002   1.062979    3.354630\n",
       "2      F1-3    0.903907   1.101609    2.696935\n",
       "3      F1-7    0.711037   1.075740    3.123581\n",
       "4   F10-1-3    0.502910   1.042578    1.857687"
      ]
     },
     "execution_count": 2,
     "metadata": {},
     "output_type": "execute_result"
    }
   ],
   "source": [
    "df = pd.read_table('Fig4C.csv', sep = \"\\t\")\n",
    "df.head()"
   ]
  },
  {
   "cell_type": "code",
   "execution_count": 3,
   "id": "82aaf213-1c76-4b16-be05-ca66c7650c11",
   "metadata": {},
   "outputs": [
    {
     "data": {
      "image/png": "[encoded data removed]",
      "text/plain": [
       "<Figure size 201.6x201.6 with 1 Axes>"
      ]
     },
     "metadata": {
      "needs_background": "light"
     },
     "output_type": "display_data"
    }
   ],
   "source": [
    "from matplotlib.ticker import MaxNLocator\n",
    "import matplotlib.ticker as ticker\n",
    "cm = 1/2.5\n",
    "\n",
    "\n",
    "fig,axes=plt.subplots(figsize=(7*cm,7*cm),sharex=False)\n",
    "sns.scatterplot(x='NRAMP1copy',\n",
    "                y='Greenness',\n",
    "                color='grey',\n",
    "                edgecolor='none',\n",
    "                marker='o',\n",
    "                s=30,\n",
    "                alpha=0.7,\n",
    "                data=df)\n",
    "r,p = spearmanr(df['Greenness'],df['NRAMP1copy'])\n",
    "axes.set_ylabel('',fontsize=10)\n",
    "axes.set_xlabel('',fontsize=10)\n",
    "axes.text(4.7, 1.02, '$\\itR$ = {:.2f}\\n$P$ = {:.2e}\\n$n$ = {}'.format(r,p,df.shape[0]), fontsize=8)\n",
    "axes.yaxis.set_major_locator(ticker.MultipleLocator(.03))      \n",
    "axes.xaxis.set_major_locator(ticker.MultipleLocator(1)) \n",
    "\n",
    "sns.despine(offset=10,trim=True)\n",
    "plt.tight_layout()\n",
    "plt.xlabel('NRAMP1 copy number',fontsize=10)\n",
    "plt.ylabel('Greenness',fontsize=10)\n",
    "plt.savefig(\"Fig4C.png\", format=\"png\",bbox_inches=\"tight\",facecolor='w',dpi=800)"
   ]
  },
  {
   "cell_type": "code",
   "execution_count": null,
   "id": "0dc1c17f-677c-4430-9625-0d62ec3305df",
   "metadata": {},
   "outputs": [],
   "source": []
  },
  {
   "cell_type": "code",
   "execution_count": null,
   "id": "09db4d68-24b8-4209-9ca6-6484e4e71980",
   "metadata": {},
   "outputs": [],
   "source": []
  }
 ],
 "metadata": {
  "kernelspec": {
   "display_name": "Python 3",
   "language": "python",
   "name": "python3"
  },
  "language_info": {
   "codemirror_mode": {
    "name": "ipython",
    "version": 3
   },
   "file_extension": ".py",
   "mimetype": "text/x-python",
   "name": "python",
   "nbconvert_exporter": "python",
   "pygments_lexer": "ipython3",
   "version": "3.8.8"
  }
 },
 "nbformat": 4,
 "nbformat_minor": 5
}
