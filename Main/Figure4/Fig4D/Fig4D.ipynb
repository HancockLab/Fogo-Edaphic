{
 "cells": [
  {
   "cell_type": "code",
   "execution_count": 1,
   "id": "3c34eaa2-bc1b-43c3-8d0a-c801dfe21014",
   "metadata": {},
   "outputs": [],
   "source": [
    "import pandas as pd\n",
    "import seaborn as sns\n",
    "import matplotlib.pyplot as plt\n",
    "import numpy as np\n",
    "import os\n",
    "from scipy import stats\n",
    "from matplotlib.offsetbox import AnchoredText\n",
    "import matplotlib.patches as mpl_patches\n",
    "from scipy.stats import spearmanr\n",
    "from matplotlib.ticker import MaxNLocator\n",
    "import matplotlib.ticker as ticker\n",
    "from matplotlib import gridspec"
   ]
  },
  {
   "cell_type": "code",
   "execution_count": 2,
   "id": "f4a211af-4b82-463d-b909-bec8340bd258",
   "metadata": {},
   "outputs": [
    {
     "data": {
      "text/html": [
       "<div>\n",
       "<style scoped>\n",
       "    .dataframe tbody tr th:only-of-type {\n",
       "        vertical-align: middle;\n",
       "    }\n",
       "\n",
       "    .dataframe tbody tr th {\n",
       "        vertical-align: top;\n",
       "    }\n",
       "\n",
       "    .dataframe thead th {\n",
       "        text-align: right;\n",
       "    }\n",
       "</style>\n",
       "<table border=\"1\" class=\"dataframe\">\n",
       "  <thead>\n",
       "    <tr style=\"text-align: right;\">\n",
       "      <th></th>\n",
       "      <th>Sample</th>\n",
       "      <th>Fe</th>\n",
       "      <th>NRAMP1copy</th>\n",
       "    </tr>\n",
       "  </thead>\n",
       "  <tbody>\n",
       "    <tr>\n",
       "      <th>0</th>\n",
       "      <td>F1-3</td>\n",
       "      <td>53.7945</td>\n",
       "      <td>2.696935</td>\n",
       "    </tr>\n",
       "    <tr>\n",
       "      <th>1</th>\n",
       "      <td>F10-1-3</td>\n",
       "      <td>45.7800</td>\n",
       "      <td>1.857687</td>\n",
       "    </tr>\n",
       "    <tr>\n",
       "      <th>2</th>\n",
       "      <td>F10-10-101</td>\n",
       "      <td>57.7815</td>\n",
       "      <td>3.178430</td>\n",
       "    </tr>\n",
       "    <tr>\n",
       "      <th>3</th>\n",
       "      <td>F10-10-102</td>\n",
       "      <td>46.8080</td>\n",
       "      <td>3.012510</td>\n",
       "    </tr>\n",
       "    <tr>\n",
       "      <th>4</th>\n",
       "      <td>F10-10-201</td>\n",
       "      <td>46.6130</td>\n",
       "      <td>2.900805</td>\n",
       "    </tr>\n",
       "  </tbody>\n",
       "</table>\n",
       "</div>"
      ],
      "text/plain": [
       "       Sample       Fe  NRAMP1copy\n",
       "0        F1-3  53.7945    2.696935\n",
       "1     F10-1-3  45.7800    1.857687\n",
       "2  F10-10-101  57.7815    3.178430\n",
       "3  F10-10-102  46.8080    3.012510\n",
       "4  F10-10-201  46.6130    2.900805"
      ]
     },
     "execution_count": 2,
     "metadata": {},
     "output_type": "execute_result"
    }
   ],
   "source": [
    "df = pd.read_table('Fig4D.csv', sep = \"\\t\")\n",
    "df.head()"
   ]
  },
  {
   "cell_type": "code",
   "execution_count": 3,
   "id": "91b337ed-d43c-4ee2-ad0f-7291bdc9a5c9",
   "metadata": {},
   "outputs": [
    {
     "data": {
      "image/png": "[encoded data removed]",
      "text/plain": [
       "<Figure size 201.6x201.6 with 1 Axes>"
      ]
     },
     "metadata": {
      "needs_background": "light"
     },
     "output_type": "display_data"
    }
   ],
   "source": [
    "from matplotlib.ticker import MaxNLocator\n",
    "import matplotlib.ticker as ticker\n",
    "cm = 1/2.5\n",
    "\n",
    "\n",
    "fig,axes=plt.subplots(figsize=(7*cm,7*cm),sharex=False)\n",
    "sns.scatterplot(x='NRAMP1copy',\n",
    "                y='Fe',\n",
    "                color='grey',\n",
    "                edgecolor='none',\n",
    "                marker='o',\n",
    "                s=30,\n",
    "                alpha=0.7,\n",
    "                data=df)\n",
    "r,p = spearmanr(df['Fe'],df['NRAMP1copy'])\n",
    "axes.xaxis.set_major_locator(ticker.MultipleLocator(1))\n",
    "axes.set_ylabel('')\n",
    "\n",
    "axes.set_xlabel('')\n",
    "axes.text(5, 40, '$\\itR$ = {:.2f}\\n$P$ = {:.2e}\\n$n$ = {}'.format(r,p,df.shape[0]), fontsize=8)\n",
    "\n",
    "sns.despine(offset=10,trim=True)\n",
    "plt.tight_layout()\n",
    "plt.xlabel('NRAMP1 copy number',fontsize=10)\n",
    "plt.ylabel('Greenness',fontsize=10)\n",
    "plt.savefig(\"Fig4D.png\", format=\"png\",bbox_inches=\"tight\",facecolor='w',dpi=800)"
   ]
  },
  {
   "cell_type": "code",
   "execution_count": null,
   "id": "29b10e39-20fd-4254-ac1c-2f84a8c06703",
   "metadata": {},
   "outputs": [],
   "source": []
  }
 ],
 "metadata": {
  "kernelspec": {
   "display_name": "Python 3",
   "language": "python",
   "name": "python3"
  },
  "language_info": {
   "codemirror_mode": {
    "name": "ipython",
    "version": 3
   },
   "file_extension": ".py",
   "mimetype": "text/x-python",
   "name": "python",
   "nbconvert_exporter": "python",
   "pygments_lexer": "ipython3",
   "version": "3.8.8"
  }
 },
 "nbformat": 4,
 "nbformat_minor": 5
}
